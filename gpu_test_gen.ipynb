{
 "cells": [
  {
   "cell_type": "code",
   "execution_count": 209,
   "id": "ae897e13",
   "metadata": {},
   "outputs": [],
   "source": [
    "import pandas as pd \n",
    "\n",
    "import matplotlib.pyplot as plt\n",
    "\n",
    "import numpy as np \n",
    "\n",
    "from sklearn.metrics import confusion_matrix\n",
    "\n",
    "from mlxtend.plotting import plot_confusion_matrix\n",
    "\n",
    "from torchvision import transforms, utils\n",
    "\n",
    "import cv2\n",
    "\n",
    "import tensorflow as tf \n",
    "import keras\n",
    "from keras import models\n",
    "from keras.layers import Dense, Dropout, Flatten, Conv2D, BatchNormalization, MaxPool2D, MaxPooling2D\n",
    "from keras.optimizers import RMSprop,Adam\n",
    "from keras.utils import to_categorical\n",
    "from keras.models import Sequential, Model\n",
    "from keras.applications import Xception\n",
    "from tensorflow.keras.preprocessing.image import ImageDataGenerator"
   ]
  },
  {
   "cell_type": "code",
   "execution_count": 210,
   "id": "588a4e64",
   "metadata": {},
   "outputs": [],
   "source": [
    "data = pd.read_csv('D:\\\\ML\\\\challenges-in-representation-learning-facial-expression-recognition-challenge\\\\icml_face_data.csv')"
   ]
  },
  {
   "cell_type": "code",
   "execution_count": 211,
   "id": "5cedce21",
   "metadata": {},
   "outputs": [
    {
     "data": {
      "text/html": [
       "<div>\n",
       "<style scoped>\n",
       "    .dataframe tbody tr th:only-of-type {\n",
       "        vertical-align: middle;\n",
       "    }\n",
       "\n",
       "    .dataframe tbody tr th {\n",
       "        vertical-align: top;\n",
       "    }\n",
       "\n",
       "    .dataframe thead th {\n",
       "        text-align: right;\n",
       "    }\n",
       "</style>\n",
       "<table border=\"1\" class=\"dataframe\">\n",
       "  <thead>\n",
       "    <tr style=\"text-align: right;\">\n",
       "      <th></th>\n",
       "      <th>emotion</th>\n",
       "      <th>Usage</th>\n",
       "      <th>pixels</th>\n",
       "    </tr>\n",
       "  </thead>\n",
       "  <tbody>\n",
       "    <tr>\n",
       "      <th>0</th>\n",
       "      <td>0</td>\n",
       "      <td>Training</td>\n",
       "      <td>70 80 82 72 58 58 60 63 54 58 60 48 89 115 121...</td>\n",
       "    </tr>\n",
       "    <tr>\n",
       "      <th>1</th>\n",
       "      <td>0</td>\n",
       "      <td>Training</td>\n",
       "      <td>151 150 147 155 148 133 111 140 170 174 182 15...</td>\n",
       "    </tr>\n",
       "    <tr>\n",
       "      <th>2</th>\n",
       "      <td>2</td>\n",
       "      <td>Training</td>\n",
       "      <td>231 212 156 164 174 138 161 173 182 200 106 38...</td>\n",
       "    </tr>\n",
       "    <tr>\n",
       "      <th>3</th>\n",
       "      <td>4</td>\n",
       "      <td>Training</td>\n",
       "      <td>24 32 36 30 32 23 19 20 30 41 21 22 32 34 21 1...</td>\n",
       "    </tr>\n",
       "    <tr>\n",
       "      <th>4</th>\n",
       "      <td>6</td>\n",
       "      <td>Training</td>\n",
       "      <td>4 0 0 0 0 0 0 0 0 0 0 0 3 15 23 28 48 50 58 84...</td>\n",
       "    </tr>\n",
       "  </tbody>\n",
       "</table>\n",
       "</div>"
      ],
      "text/plain": [
       "   emotion     Usage                                             pixels\n",
       "0        0  Training  70 80 82 72 58 58 60 63 54 58 60 48 89 115 121...\n",
       "1        0  Training  151 150 147 155 148 133 111 140 170 174 182 15...\n",
       "2        2  Training  231 212 156 164 174 138 161 173 182 200 106 38...\n",
       "3        4  Training  24 32 36 30 32 23 19 20 30 41 21 22 32 34 21 1...\n",
       "4        6  Training  4 0 0 0 0 0 0 0 0 0 0 0 3 15 23 28 48 50 58 84..."
      ]
     },
     "execution_count": 211,
     "metadata": {},
     "output_type": "execute_result"
    }
   ],
   "source": [
    "data.head()"
   ]
  },
  {
   "cell_type": "code",
   "execution_count": 212,
   "id": "69539023",
   "metadata": {},
   "outputs": [],
   "source": [
    "emotions = {0: 'Angry', \n",
    "            1: 'Disgust', \n",
    "            2: 'Fear', \n",
    "            3: 'Happy', \n",
    "            4: 'Sad', \n",
    "            5: 'Surprise', \n",
    "            6: 'Neutral'}"
   ]
  },
  {
   "cell_type": "code",
   "execution_count": 213,
   "id": "e3b9f708",
   "metadata": {},
   "outputs": [],
   "source": [
    "def prepare_data(data):\n",
    "    \n",
    "    images = np.zeros(shape=(len(data), 48, 48, 1))\n",
    "    labels = np.array(list(map(int, data['emotion'])))\n",
    "    \n",
    "    for i, row  in enumerate(data.index):\n",
    "        image = np.fromstring(data.loc[row, ' pixels'], dtype=int, sep=' ')\n",
    "        image = np.reshape(image, (48, 48, 1))\n",
    "        images[i] = image \n",
    "        \n",
    "    return images, labels\n",
    "\n",
    "def plot_image_and_emotion(X, y, y_pred, num):\n",
    "    \n",
    "    fig, axs = plt.subplots(1, 2, figsize=(12, 6), sharey=False)\n",
    "    bar_label = emotions.values()\n",
    "    \n",
    "    axs[0].imshow(X[num], 'gray')\n",
    "    axs[0].set_title(emotions[y[num]])\n",
    "    \n",
    "    axs[1].bar(bar_label, y_pred[num], color='orange', alpha=0.7)\n",
    "    axs[1].grid()\n",
    "    \n",
    "    plt.show()\n",
    "    \n",
    "def res(X):\n",
    "    \n",
    "    for i in range(len(X)):\n",
    "        image_string = (X)[i]\n",
    "        image_data = np.asarray(image_string, dtype=np.float32).reshape(48, 48)\n",
    "        a.append(image_data) \n",
    "        \n",
    "    return a"
   ]
  },
  {
   "cell_type": "code",
   "execution_count": 214,
   "id": "777e6779",
   "metadata": {},
   "outputs": [],
   "source": [
    "X_train, y_train = prepare_data(data[data[' Usage']=='Training'])\n",
    "X_val, y_val     = prepare_data(data[data[' Usage']=='PrivateTest'])\n",
    "X_test, y_test   = prepare_data(data[data[' Usage']=='PublicTest'])"
   ]
  },
  {
   "cell_type": "code",
   "execution_count": 216,
   "id": "07e514e6",
   "metadata": {},
   "outputs": [],
   "source": [
    "y_train1 = y_train\n",
    "y_val1   = y_val\n",
    "y_test1  = y_test\n",
    "y_train  = to_categorical(y_train)\n",
    "y_val    = to_categorical(y_val)\n",
    "y_test   = to_categorical(y_test)"
   ]
  },
  {
   "cell_type": "code",
   "execution_count": 217,
   "id": "4ae3556a",
   "metadata": {},
   "outputs": [],
   "source": [
    "X_train = X_train.astype('float32') / 255\n",
    "X_val   = X_val.astype('float32') / 255\n",
    "X_test  = X_test.astype('float32') / 255"
   ]
  },
  {
   "cell_type": "code",
   "execution_count": 218,
   "id": "9aa3cac6",
   "metadata": {},
   "outputs": [
    {
     "name": "stdout",
     "output_type": "stream",
     "text": [
      "Размерность X_train: (48, 48, 1)\n",
      "28709 Размер train\n",
      "3589 Размер test\n",
      "3589 Размер val\n"
     ]
    }
   ],
   "source": [
    "print('Размерность X_train:', X_train.shape)\n",
    "print(X_train.shape[0], 'Размер train')\n",
    "print(X_test.shape[0], 'Размер test')\n",
    "print(X_val.shape[0], 'Размер val')"
   ]
  },
  {
   "cell_type": "code",
   "execution_count": 219,
   "id": "bf3305a0",
   "metadata": {},
   "outputs": [],
   "source": [
    "model = models.Sequential()\n",
    "model.add(Conv2D(32, (1, 1), padding='same', activation='relu', input_shape=(48, 48, 1)))\n",
    "model.add(BatchNormalization())\n",
    "model.add(Dropout(0.25))\n",
    "\n",
    "model.add(Conv2D(64, (3, 3), padding='same', activation='relu'))\n",
    "model.add(BatchNormalization())\n",
    "model.add(MaxPooling2D(2, padding=\"same\"))\n",
    "model.add(Dropout(0.25))\n",
    "\n",
    "model.add(Conv2D(128, (5, 5), padding='same', activation='relu'))\n",
    "model.add(BatchNormalization())\n",
    "model.add(Dropout(0.25))\n",
    "\n",
    "model.add(Conv2D(256, (7, 7), padding='same', activation='relu'))\n",
    "model.add(BatchNormalization())\n",
    "model.add(MaxPooling2D(2, padding=\"same\"))\n",
    "model.add(Dropout(0.25))\n",
    "\n",
    "model.add(Flatten())\n",
    "\n",
    "model.add(Dense(128, activation='relu'))\n",
    "model.add(BatchNormalization())\n",
    "model.add(Dropout(0.25))\n",
    "\n",
    "model.add(Dense(256, activation='relu'))\n",
    "model.add(BatchNormalization())\n",
    "model.add(Dropout(0.25))\n",
    "\n",
    "model.add(Dense(7, activation='softmax'))"
   ]
  },
  {
   "cell_type": "code",
   "execution_count": 220,
   "id": "5cd160aa",
   "metadata": {},
   "outputs": [],
   "source": [
    "model.compile(optimizer='adam', \n",
    "              loss='categorical_crossentropy', \n",
    "              metrics=['accuracy'])"
   ]
  },
  {
   "cell_type": "code",
   "execution_count": 221,
   "id": "38021361",
   "metadata": {},
   "outputs": [
    {
     "name": "stdout",
     "output_type": "stream",
     "text": [
      "Model: \"sequential_1\"\n",
      "_________________________________________________________________\n",
      " Layer (type)                Output Shape              Param #   \n",
      "=================================================================\n",
      " conv2d_4 (Conv2D)           (None, 48, 48, 32)        64        \n",
      "                                                                 \n",
      " batch_normalization_6 (Batc  (None, 48, 48, 32)       128       \n",
      " hNormalization)                                                 \n",
      "                                                                 \n",
      " dropout_6 (Dropout)         (None, 48, 48, 32)        0         \n",
      "                                                                 \n",
      " conv2d_5 (Conv2D)           (None, 48, 48, 64)        18496     \n",
      "                                                                 \n",
      " batch_normalization_7 (Batc  (None, 48, 48, 64)       256       \n",
      " hNormalization)                                                 \n",
      "                                                                 \n",
      " max_pooling2d_2 (MaxPooling  (None, 24, 24, 64)       0         \n",
      " 2D)                                                             \n",
      "                                                                 \n",
      " dropout_7 (Dropout)         (None, 24, 24, 64)        0         \n",
      "                                                                 \n",
      " conv2d_6 (Conv2D)           (None, 24, 24, 128)       204928    \n",
      "                                                                 \n",
      " batch_normalization_8 (Batc  (None, 24, 24, 128)      512       \n",
      " hNormalization)                                                 \n",
      "                                                                 \n",
      " dropout_8 (Dropout)         (None, 24, 24, 128)       0         \n",
      "                                                                 \n",
      " conv2d_7 (Conv2D)           (None, 24, 24, 256)       1605888   \n",
      "                                                                 \n",
      " batch_normalization_9 (Batc  (None, 24, 24, 256)      1024      \n",
      " hNormalization)                                                 \n",
      "                                                                 \n",
      " max_pooling2d_3 (MaxPooling  (None, 12, 12, 256)      0         \n",
      " 2D)                                                             \n",
      "                                                                 \n",
      " dropout_9 (Dropout)         (None, 12, 12, 256)       0         \n",
      "                                                                 \n",
      " flatten_1 (Flatten)         (None, 36864)             0         \n",
      "                                                                 \n",
      " dense_3 (Dense)             (None, 128)               4718720   \n",
      "                                                                 \n",
      " batch_normalization_10 (Bat  (None, 128)              512       \n",
      " chNormalization)                                                \n",
      "                                                                 \n",
      " dropout_10 (Dropout)        (None, 128)               0         \n",
      "                                                                 \n",
      " dense_4 (Dense)             (None, 256)               33024     \n",
      "                                                                 \n",
      " batch_normalization_11 (Bat  (None, 256)              1024      \n",
      " chNormalization)                                                \n",
      "                                                                 \n",
      " dropout_11 (Dropout)        (None, 256)               0         \n",
      "                                                                 \n",
      " dense_5 (Dense)             (None, 7)                 1799      \n",
      "                                                                 \n",
      "=================================================================\n",
      "Total params: 6,586,375\n",
      "Trainable params: 6,584,647\n",
      "Non-trainable params: 1,728\n",
      "_________________________________________________________________\n"
     ]
    }
   ],
   "source": [
    "model.summary()"
   ]
  },
  {
   "cell_type": "code",
   "execution_count": 222,
   "id": "069609e9",
   "metadata": {},
   "outputs": [],
   "source": [
    "kergen = ImageDataGenerator(rotation_range=10, \n",
    "                            vertical_flip=True,\n",
    "                            horizontal_flip=True) "
   ]
  },
  {
   "cell_type": "code",
   "execution_count": 223,
   "id": "9801bf63",
   "metadata": {},
   "outputs": [],
   "source": [
    "torgen = transforms.Compose([transforms.ToTensor(),\n",
    "                             transforms.RandomRotation(degrees=10),\n",
    "                             transforms.RandomVerticalFlip(p=0.5),\n",
    "                             transforms.RandomHorizontalFlip(p=0.5),\n",
    "                             transforms.ToPILImage(mode=None)\n",
    "                             ])"
   ]
  },
  {
   "cell_type": "code",
   "execution_count": 225,
   "id": "ae7e8b34",
   "metadata": {},
   "outputs": [
    {
     "name": "stdout",
     "output_type": "stream",
     "text": [
      "(28709, 48, 48, 1)\n",
      "(3589, 48, 48, 1)\n",
      "(3589, 48, 48, 1)\n"
     ]
    }
   ],
   "source": [
    "X_train1 = []\n",
    "X_test1 = []\n",
    "X_val1 = []\n",
    "\n",
    "for i in range(X_train.shape[0]):\n",
    "    x = (np.array(torgen(X_train[i])).astype('float32') / 255).reshape(48, 48, 1)\n",
    "    X_train1.append(x)\n",
    "    \n",
    "for i in range(X_test.shape[0]):\n",
    "    x = (np.array(torgen(X_test[i])).astype('float32') / 255).reshape(48, 48, 1)\n",
    "    X_test1.append(x)\n",
    "    \n",
    "for i in range(X_val.shape[0]):\n",
    "    x = (np.array(torgen(X_val[i])).astype('float32') / 255).reshape(48, 48, 1)\n",
    "    X_val1.append(x)\n",
    "    \n",
    "X_train1 = np.array(X_train1)\n",
    "X_test1 = np.array(X_test1)\n",
    "X_val1 = np.array(X_val1)\n",
    "\n",
    "print(X_train1.shape)\n",
    "print(X_test1.shape)\n",
    "print(X_val1.shape)"
   ]
  },
  {
   "cell_type": "code",
   "execution_count": null,
   "id": "43767633",
   "metadata": {},
   "outputs": [],
   "source": [
    "plt.figure(figsize=[24,24])\n",
    "plt.subplot(4,4,2)\n",
    "plt.imshow(X_train[1],cmap=\"gray\")\n",
    "plt.title(emotions[y_train1[1]])\n",
    "plt.axis(\"off\")\n",
    "plt.show()\n",
    "\n",
    "plt.figure(figsize=[24,24])\n",
    "plt.subplot(4,4,2)\n",
    "plt.imshow(X_train1[1],cmap=\"gray\")\n",
    "plt.title(emotions[y_train1[1]])\n",
    "plt.axis(\"off\")\n",
    "plt.show()"
   ]
  },
  {
   "cell_type": "markdown",
   "id": "86ee959a",
   "metadata": {},
   "source": [
    " "
   ]
  },
  {
   "cell_type": "markdown",
   "id": "a2cce32f",
   "metadata": {},
   "source": [
    "**Keras generator**"
   ]
  },
  {
   "cell_type": "markdown",
   "id": "d1fedee1",
   "metadata": {},
   "source": [
    " "
   ]
  },
  {
   "cell_type": "code",
   "execution_count": 226,
   "id": "a3840322",
   "metadata": {},
   "outputs": [
    {
     "name": "stdout",
     "output_type": "stream",
     "text": [
      "Epoch 1/50\n",
      "897/897 [==============================] - 23s 17ms/step - loss: 1.9839 - accuracy: 0.2316 - val_loss: 1.7408 - val_accuracy: 0.2920\n",
      "Epoch 2/50\n",
      "897/897 [==============================] - 15s 16ms/step - loss: 1.7208 - accuracy: 0.3128 - val_loss: 1.5638 - val_accuracy: 0.3856\n",
      "Epoch 3/50\n",
      "897/897 [==============================] - 15s 16ms/step - loss: 1.5632 - accuracy: 0.3878 - val_loss: 1.4911 - val_accuracy: 0.4224\n",
      "Epoch 4/50\n",
      "897/897 [==============================] - 16s 17ms/step - loss: 1.4716 - accuracy: 0.4279 - val_loss: 1.3872 - val_accuracy: 0.4622\n",
      "Epoch 5/50\n",
      "897/897 [==============================] - 15s 17ms/step - loss: 1.4083 - accuracy: 0.4584 - val_loss: 1.3230 - val_accuracy: 0.4887\n",
      "Epoch 6/50\n",
      "897/897 [==============================] - 15s 17ms/step - loss: 1.3681 - accuracy: 0.4715 - val_loss: 1.3027 - val_accuracy: 0.4976\n",
      "Epoch 7/50\n",
      "897/897 [==============================] - 15s 17ms/step - loss: 1.3288 - accuracy: 0.4871 - val_loss: 1.2881 - val_accuracy: 0.5130\n",
      "Epoch 8/50\n",
      "897/897 [==============================] - 15s 17ms/step - loss: 1.2863 - accuracy: 0.5090 - val_loss: 1.2240 - val_accuracy: 0.5352\n",
      "Epoch 9/50\n",
      "897/897 [==============================] - 15s 17ms/step - loss: 1.2606 - accuracy: 0.5163 - val_loss: 1.2107 - val_accuracy: 0.5453\n",
      "Epoch 10/50\n",
      "897/897 [==============================] - 15s 17ms/step - loss: 1.2315 - accuracy: 0.5314 - val_loss: 1.1973 - val_accuracy: 0.5486\n",
      "Epoch 11/50\n",
      "897/897 [==============================] - 15s 17ms/step - loss: 1.2085 - accuracy: 0.5392 - val_loss: 1.1721 - val_accuracy: 0.5592\n",
      "Epoch 12/50\n",
      "897/897 [==============================] - 15s 17ms/step - loss: 1.1826 - accuracy: 0.5512 - val_loss: 1.1686 - val_accuracy: 0.5575\n",
      "Epoch 13/50\n",
      "897/897 [==============================] - 15s 17ms/step - loss: 1.1630 - accuracy: 0.5610 - val_loss: 1.1557 - val_accuracy: 0.5578\n",
      "Epoch 14/50\n",
      "897/897 [==============================] - 15s 17ms/step - loss: 1.1424 - accuracy: 0.5711 - val_loss: 1.1722 - val_accuracy: 0.5570\n",
      "Epoch 15/50\n",
      "897/897 [==============================] - 15s 17ms/step - loss: 1.1293 - accuracy: 0.5757 - val_loss: 1.1393 - val_accuracy: 0.5701\n",
      "Epoch 16/50\n",
      "897/897 [==============================] - 15s 16ms/step - loss: 1.1073 - accuracy: 0.5832 - val_loss: 1.1204 - val_accuracy: 0.5812\n",
      "Epoch 17/50\n",
      "897/897 [==============================] - 15s 17ms/step - loss: 1.0923 - accuracy: 0.5876 - val_loss: 1.1258 - val_accuracy: 0.5770\n",
      "Epoch 18/50\n",
      "897/897 [==============================] - 15s 17ms/step - loss: 1.0799 - accuracy: 0.5988 - val_loss: 1.1090 - val_accuracy: 0.5879\n",
      "Epoch 19/50\n",
      "897/897 [==============================] - 15s 17ms/step - loss: 1.0608 - accuracy: 0.6030 - val_loss: 1.1446 - val_accuracy: 0.5784\n",
      "Epoch 20/50\n",
      "897/897 [==============================] - 15s 17ms/step - loss: 1.0503 - accuracy: 0.6076 - val_loss: 1.1379 - val_accuracy: 0.5834\n",
      "Epoch 21/50\n",
      "897/897 [==============================] - 15s 17ms/step - loss: 1.0306 - accuracy: 0.6124 - val_loss: 1.1422 - val_accuracy: 0.5865\n",
      "Epoch 22/50\n",
      "897/897 [==============================] - 15s 17ms/step - loss: 1.0283 - accuracy: 0.6159 - val_loss: 1.1131 - val_accuracy: 0.5876\n",
      "Epoch 23/50\n",
      "897/897 [==============================] - 15s 17ms/step - loss: 1.0097 - accuracy: 0.6191 - val_loss: 1.1007 - val_accuracy: 0.5899\n",
      "Epoch 24/50\n",
      "897/897 [==============================] - 15s 16ms/step - loss: 0.9960 - accuracy: 0.6303 - val_loss: 1.1023 - val_accuracy: 0.5946\n",
      "Epoch 25/50\n",
      "897/897 [==============================] - 15s 16ms/step - loss: 0.9783 - accuracy: 0.6355 - val_loss: 1.1002 - val_accuracy: 0.5952\n",
      "Epoch 26/50\n",
      "897/897 [==============================] - 15s 17ms/step - loss: 0.9705 - accuracy: 0.6366 - val_loss: 1.1151 - val_accuracy: 0.5840\n",
      "Epoch 27/50\n",
      "897/897 [==============================] - 15s 17ms/step - loss: 0.9640 - accuracy: 0.6389 - val_loss: 1.0947 - val_accuracy: 0.5993\n",
      "Epoch 28/50\n",
      "897/897 [==============================] - 15s 17ms/step - loss: 0.9679 - accuracy: 0.6409 - val_loss: 1.1065 - val_accuracy: 0.5963\n",
      "Epoch 29/50\n",
      "897/897 [==============================] - 15s 16ms/step - loss: 0.9433 - accuracy: 0.6484 - val_loss: 1.1151 - val_accuracy: 0.5952\n",
      "Epoch 30/50\n",
      "897/897 [==============================] - 15s 17ms/step - loss: 0.9271 - accuracy: 0.6568 - val_loss: 1.1048 - val_accuracy: 0.5999\n",
      "Epoch 31/50\n",
      "897/897 [==============================] - 15s 17ms/step - loss: 0.9371 - accuracy: 0.6509 - val_loss: 1.0967 - val_accuracy: 0.6021\n",
      "Epoch 32/50\n",
      "897/897 [==============================] - 15s 16ms/step - loss: 0.9133 - accuracy: 0.6594 - val_loss: 1.1073 - val_accuracy: 0.5991\n",
      "Epoch 33/50\n",
      "897/897 [==============================] - 15s 16ms/step - loss: 0.9285 - accuracy: 0.6584 - val_loss: 1.1079 - val_accuracy: 0.5968\n",
      "Epoch 34/50\n",
      "897/897 [==============================] - 15s 16ms/step - loss: 0.9021 - accuracy: 0.6666 - val_loss: 1.0956 - val_accuracy: 0.5985\n",
      "Epoch 35/50\n",
      "897/897 [==============================] - 15s 16ms/step - loss: 0.8868 - accuracy: 0.6697 - val_loss: 1.1059 - val_accuracy: 0.5938\n",
      "Epoch 36/50\n",
      "897/897 [==============================] - 15s 17ms/step - loss: 0.8749 - accuracy: 0.6767 - val_loss: 1.1634 - val_accuracy: 0.5885\n",
      "Epoch 37/50\n",
      "897/897 [==============================] - 15s 16ms/step - loss: 0.8676 - accuracy: 0.6772 - val_loss: 1.1061 - val_accuracy: 0.5993\n",
      "Epoch 38/50\n",
      "897/897 [==============================] - 15s 17ms/step - loss: 0.8617 - accuracy: 0.6831 - val_loss: 1.1098 - val_accuracy: 0.6063\n",
      "Epoch 39/50\n",
      "897/897 [==============================] - 15s 16ms/step - loss: 0.8661 - accuracy: 0.6798 - val_loss: 1.1112 - val_accuracy: 0.6021\n",
      "Epoch 40/50\n",
      "897/897 [==============================] - 15s 17ms/step - loss: 0.8444 - accuracy: 0.6906 - val_loss: 1.1274 - val_accuracy: 0.5946\n",
      "Epoch 41/50\n",
      "897/897 [==============================] - 15s 17ms/step - loss: 0.8418 - accuracy: 0.6921 - val_loss: 1.1266 - val_accuracy: 0.6004\n",
      "Epoch 42/50\n",
      "897/897 [==============================] - 15s 16ms/step - loss: 0.8330 - accuracy: 0.6923 - val_loss: 1.1033 - val_accuracy: 0.6074\n",
      "Epoch 43/50\n",
      "897/897 [==============================] - 15s 16ms/step - loss: 0.8315 - accuracy: 0.6977 - val_loss: 1.0924 - val_accuracy: 0.6094\n",
      "Epoch 44/50\n",
      "897/897 [==============================] - 15s 17ms/step - loss: 0.8192 - accuracy: 0.6996 - val_loss: 1.0984 - val_accuracy: 0.6069\n",
      "Epoch 45/50\n",
      "897/897 [==============================] - 15s 17ms/step - loss: 0.8123 - accuracy: 0.7005 - val_loss: 1.0933 - val_accuracy: 0.6102\n",
      "Epoch 46/50\n",
      "897/897 [==============================] - 15s 17ms/step - loss: 0.8007 - accuracy: 0.7050 - val_loss: 1.1145 - val_accuracy: 0.6063\n",
      "Epoch 47/50\n",
      "897/897 [==============================] - 15s 16ms/step - loss: 0.8021 - accuracy: 0.7049 - val_loss: 1.1140 - val_accuracy: 0.6088\n",
      "Epoch 48/50\n",
      "897/897 [==============================] - 15s 17ms/step - loss: 0.7959 - accuracy: 0.7054 - val_loss: 1.1389 - val_accuracy: 0.6105\n",
      "Epoch 49/50\n",
      "897/897 [==============================] - 15s 17ms/step - loss: 0.7966 - accuracy: 0.7070 - val_loss: 1.1006 - val_accuracy: 0.6102\n",
      "Epoch 50/50\n",
      "897/897 [==============================] - 15s 16ms/step - loss: 0.7815 - accuracy: 0.7119 - val_loss: 1.1165 - val_accuracy: 0.6113\n"
     ]
    }
   ],
   "source": [
    "history = model.fit(kergen.flow(X_train, y_train, \n",
    "                                batch_size=32),\n",
    "                    validation_data=(X_test, y_test),\n",
    "                    steps_per_epoch=X_train.shape[0] // 32, \n",
    "                    epochs=50)"
   ]
  },
  {
   "cell_type": "code",
   "execution_count": 227,
   "id": "1747f804",
   "metadata": {},
   "outputs": [
    {
     "name": "stdout",
     "output_type": "stream",
     "text": [
      "Потери на тесте train: 0.5464577078819275\n",
      "Точность на тесте train: 0.8137866258621216\n",
      "\n",
      "\n",
      "Потери на тесте train: 1.116459608078003\n",
      "Точность на тесте train: 0.6113123297691345\n",
      "\n",
      "\n",
      "Потери на тесте val: 1.0625766515731812\n",
      "Точность на тесте val: 0.622178852558136\n"
     ]
    }
   ],
   "source": [
    "train_score = model.evaluate(X_train, y_train, verbose=0)\n",
    "print('Потери на тесте train:', train_score[0])\n",
    "print('Точность на тесте train:', train_score[1])\n",
    "print('\\n')\n",
    "test_score = model.evaluate(X_test, y_test, verbose=0)\n",
    "print('Потери на тесте train:', test_score[0])\n",
    "print('Точность на тесте train:', test_score[1])\n",
    "print('\\n')\n",
    "val_score = model.evaluate(X_val, y_val, verbose=0)\n",
    "print('Потери на тесте val:', val_score[0])\n",
    "print('Точность на тесте val:', val_score[1])"
   ]
  },
  {
   "cell_type": "code",
   "execution_count": 228,
   "id": "2b7b84c3",
   "metadata": {},
   "outputs": [
    {
     "data": {
      "image/png": "[encoded data removed]",
      "text/plain": [
       "<Figure size 432x288 with 1 Axes>"
      ]
     },
     "metadata": {
      "needs_background": "light"
     },
     "output_type": "display_data"
    },
    {
     "data": {
      "image/png": "[encoded data removed]",
      "text/plain": [
       "<Figure size 432x288 with 1 Axes>"
      ]
     },
     "metadata": {
      "needs_background": "light"
     },
     "output_type": "display_data"
    }
   ],
   "source": [
    "loss = history.history['loss']\n",
    "loss_val = history.history['val_loss']\n",
    "epochs = range(1, len(loss)+1)\n",
    "plt.plot(epochs, loss, 'bo', label='loss_train')\n",
    "plt.plot(epochs, loss_val, 'b', label='loss_val')\n",
    "plt.title('Value of the loss function')\n",
    "plt.xlabel('Epochs')\n",
    "plt.ylabel('Value of the loss function')\n",
    "plt.legend()\n",
    "plt.grid()\n",
    "plt.show()\n",
    "\n",
    "acc = history.history['accuracy']\n",
    "acc_val = history.history['val_accuracy']\n",
    "epochs = range(1, len(loss)+1)\n",
    "plt.plot(epochs, acc, 'bo', label='accuracy_train')\n",
    "plt.plot(epochs, acc_val, 'b', label='accuracy_val')\n",
    "plt.title('Accuracy')\n",
    "plt.xlabel('Epochs')\n",
    "plt.ylabel('Value of Accuracy')\n",
    "plt.legend()\n",
    "plt.grid()\n",
    "plt.show()"
   ]
  },
  {
   "cell_type": "code",
   "execution_count": 229,
   "id": "3df61068",
   "metadata": {},
   "outputs": [
    {
     "name": "stdout",
     "output_type": "stream",
     "text": [
      "113/113 [==============================] - 1s 3ms/step\n"
     ]
    }
   ],
   "source": [
    "pred_test_labels = model.predict(X_test)"
   ]
  },
  {
   "cell_type": "code",
   "execution_count": 230,
   "id": "f352b9cf",
   "metadata": {},
   "outputs": [
    {
     "name": "stderr",
     "output_type": "stream",
     "text": [
      "C:\\Users\\plato\\anaconda3\\envs\\gpu\\lib\\site-packages\\ipykernel_launcher.py:8: UserWarning: Matplotlib is currently using module://matplotlib_inline.backend_inline, which is a non-GUI backend, so cannot show the figure.\n",
      "  \n"
     ]
    },
    {
     "data": {
      "image/png": "[encoded data removed]",
      "text/plain": [
       "<Figure size 576x576 with 1 Axes>"
      ]
     },
     "metadata": {
      "needs_background": "light"
     },
     "output_type": "display_data"
    }
   ],
   "source": [
    "conf_mat = confusion_matrix(y_test.argmax(axis=1), pred_test_labels.argmax(axis=1))\n",
    "\n",
    "fig, ax = plot_confusion_matrix(conf_mat=conf_mat,\n",
    "                                show_normed=True,\n",
    "                                show_absolute=False,\n",
    "                                class_names=emotions.values(),\n",
    "                                figsize=(8, 8))\n",
    "fig.show()"
   ]
  },
  {
   "cell_type": "markdown",
   "id": "cf1d2219",
   "metadata": {},
   "source": [
    " "
   ]
  },
  {
   "cell_type": "markdown",
   "id": "a8770de9",
   "metadata": {},
   "source": [
    "**PyTorch generator**"
   ]
  },
  {
   "cell_type": "markdown",
   "id": "585f3871",
   "metadata": {},
   "source": [
    " "
   ]
  },
  {
   "cell_type": "code",
   "execution_count": 232,
   "id": "55dc8f07",
   "metadata": {},
   "outputs": [],
   "source": [
    "model1 = model"
   ]
  },
  {
   "cell_type": "code",
   "execution_count": 233,
   "id": "01efffbe",
   "metadata": {},
   "outputs": [],
   "source": [
    "model1.compile(optimizer='adam', \n",
    "              loss='categorical_crossentropy', \n",
    "              metrics=['accuracy'])"
   ]
  },
  {
   "cell_type": "code",
   "execution_count": 235,
   "id": "975fa798",
   "metadata": {},
   "outputs": [
    {
     "name": "stdout",
     "output_type": "stream",
     "text": [
      "Epoch 1/50\n",
      "897/897 [==============================] - 15s 16ms/step - loss: 0.6305 - accuracy: 0.7721 - val_loss: 1.2296 - val_accuracy: 0.5882\n",
      "Epoch 2/50\n",
      "897/897 [==============================] - 15s 16ms/step - loss: 0.5570 - accuracy: 0.8001 - val_loss: 1.2713 - val_accuracy: 0.5834\n",
      "Epoch 3/50\n",
      "897/897 [==============================] - 15s 16ms/step - loss: 0.4842 - accuracy: 0.8233 - val_loss: 1.3082 - val_accuracy: 0.5821\n",
      "Epoch 4/50\n",
      "897/897 [==============================] - 14s 16ms/step - loss: 0.4164 - accuracy: 0.8497 - val_loss: 1.4404 - val_accuracy: 0.5681\n",
      "Epoch 5/50\n",
      "897/897 [==============================] - 15s 17ms/step - loss: 0.3563 - accuracy: 0.8711 - val_loss: 1.5100 - val_accuracy: 0.5790\n",
      "Epoch 6/50\n",
      "897/897 [==============================] - 16s 18ms/step - loss: 0.3261 - accuracy: 0.8830 - val_loss: 1.5837 - val_accuracy: 0.5737\n",
      "Epoch 7/50\n",
      "897/897 [==============================] - 15s 16ms/step - loss: 0.3025 - accuracy: 0.8933 - val_loss: 1.5750 - val_accuracy: 0.5706\n",
      "Epoch 8/50\n",
      "897/897 [==============================] - 15s 16ms/step - loss: 0.2869 - accuracy: 0.9009 - val_loss: 1.6380 - val_accuracy: 0.5726\n",
      "Epoch 9/50\n",
      "897/897 [==============================] - 15s 16ms/step - loss: 0.2542 - accuracy: 0.9101 - val_loss: 1.6627 - val_accuracy: 0.5826\n",
      "Epoch 10/50\n",
      "897/897 [==============================] - 15s 16ms/step - loss: 0.2343 - accuracy: 0.9152 - val_loss: 1.7459 - val_accuracy: 0.5670\n",
      "Epoch 11/50\n",
      "897/897 [==============================] - 15s 17ms/step - loss: 0.2334 - accuracy: 0.9179 - val_loss: 1.7653 - val_accuracy: 0.5648\n",
      "Epoch 12/50\n",
      "897/897 [==============================] - 15s 16ms/step - loss: 0.2140 - accuracy: 0.9248 - val_loss: 1.7540 - val_accuracy: 0.5653\n",
      "Epoch 13/50\n",
      "897/897 [==============================] - 15s 17ms/step - loss: 0.2012 - accuracy: 0.9270 - val_loss: 1.8509 - val_accuracy: 0.5614\n",
      "Epoch 14/50\n",
      "897/897 [==============================] - 15s 16ms/step - loss: 0.2061 - accuracy: 0.9284 - val_loss: 1.8365 - val_accuracy: 0.5578\n",
      "Epoch 15/50\n",
      "897/897 [==============================] - 15s 17ms/step - loss: 0.1892 - accuracy: 0.9332 - val_loss: 1.8479 - val_accuracy: 0.5595\n",
      "Epoch 16/50\n",
      "897/897 [==============================] - 15s 16ms/step - loss: 0.1787 - accuracy: 0.9378 - val_loss: 1.9211 - val_accuracy: 0.5626\n",
      "Epoch 17/50\n",
      "897/897 [==============================] - 14s 16ms/step - loss: 0.1766 - accuracy: 0.9383 - val_loss: 1.9181 - val_accuracy: 0.5536\n",
      "Epoch 18/50\n",
      "897/897 [==============================] - 15s 16ms/step - loss: 0.1723 - accuracy: 0.9404 - val_loss: 1.8773 - val_accuracy: 0.5648\n",
      "Epoch 19/50\n",
      "897/897 [==============================] - 15s 16ms/step - loss: 0.1514 - accuracy: 0.9473 - val_loss: 1.9835 - val_accuracy: 0.5637\n",
      "Epoch 20/50\n",
      "897/897 [==============================] - 15s 17ms/step - loss: 0.1494 - accuracy: 0.9494 - val_loss: 1.9278 - val_accuracy: 0.5609\n",
      "Epoch 21/50\n",
      "897/897 [==============================] - 15s 17ms/step - loss: 0.1483 - accuracy: 0.9487 - val_loss: 1.9145 - val_accuracy: 0.5634\n",
      "Epoch 22/50\n",
      "897/897 [==============================] - 15s 16ms/step - loss: 0.1487 - accuracy: 0.9491 - val_loss: 1.9346 - val_accuracy: 0.5600\n",
      "Epoch 23/50\n",
      "897/897 [==============================] - 15s 17ms/step - loss: 0.1521 - accuracy: 0.9484 - val_loss: 1.9461 - val_accuracy: 0.5573\n",
      "Epoch 24/50\n",
      "897/897 [==============================] - 15s 17ms/step - loss: 0.1306 - accuracy: 0.9549 - val_loss: 2.0295 - val_accuracy: 0.5628\n",
      "Epoch 25/50\n",
      "897/897 [==============================] - 15s 16ms/step - loss: 0.1737 - accuracy: 0.9397 - val_loss: 1.9669 - val_accuracy: 0.5578\n",
      "Epoch 26/50\n",
      "897/897 [==============================] - 15s 16ms/step - loss: 0.1384 - accuracy: 0.9513 - val_loss: 2.0174 - val_accuracy: 0.5592\n",
      "Epoch 27/50\n",
      "897/897 [==============================] - 15s 16ms/step - loss: 0.1228 - accuracy: 0.9564 - val_loss: 2.1004 - val_accuracy: 0.5548\n",
      "Epoch 28/50\n",
      "897/897 [==============================] - 15s 16ms/step - loss: 0.1120 - accuracy: 0.9604 - val_loss: 2.1176 - val_accuracy: 0.5570\n",
      "Epoch 29/50\n",
      "897/897 [==============================] - 15s 16ms/step - loss: 0.1073 - accuracy: 0.9630 - val_loss: 2.1564 - val_accuracy: 0.5514\n",
      "Epoch 30/50\n",
      "897/897 [==============================] - 15s 16ms/step - loss: 0.1521 - accuracy: 0.9472 - val_loss: 2.0951 - val_accuracy: 0.5531\n",
      "Epoch 31/50\n",
      "897/897 [==============================] - 15s 16ms/step - loss: 0.1135 - accuracy: 0.9608 - val_loss: 2.0518 - val_accuracy: 0.5475\n",
      "Epoch 32/50\n",
      "897/897 [==============================] - 15s 16ms/step - loss: 0.1445 - accuracy: 0.9498 - val_loss: 1.9905 - val_accuracy: 0.5536\n",
      "Epoch 33/50\n",
      "897/897 [==============================] - 15s 17ms/step - loss: 0.1049 - accuracy: 0.9635 - val_loss: 2.0993 - val_accuracy: 0.5651\n",
      "Epoch 34/50\n",
      "897/897 [==============================] - 15s 17ms/step - loss: 0.0937 - accuracy: 0.9680 - val_loss: 2.1950 - val_accuracy: 0.5520\n",
      "Epoch 35/50\n",
      "897/897 [==============================] - 15s 17ms/step - loss: 0.1027 - accuracy: 0.9648 - val_loss: 2.1490 - val_accuracy: 0.5620\n",
      "Epoch 36/50\n",
      "897/897 [==============================] - 15s 16ms/step - loss: 0.1012 - accuracy: 0.9643 - val_loss: 2.1196 - val_accuracy: 0.5573\n",
      "Epoch 37/50\n",
      "897/897 [==============================] - 15s 17ms/step - loss: 0.1101 - accuracy: 0.9616 - val_loss: 2.1699 - val_accuracy: 0.5522\n",
      "Epoch 38/50\n",
      "897/897 [==============================] - 15s 17ms/step - loss: 0.0987 - accuracy: 0.9666 - val_loss: 2.1600 - val_accuracy: 0.5606\n",
      "Epoch 39/50\n",
      "897/897 [==============================] - 15s 17ms/step - loss: 0.0945 - accuracy: 0.9676 - val_loss: 2.1660 - val_accuracy: 0.5536\n",
      "Epoch 40/50\n",
      "897/897 [==============================] - 15s 16ms/step - loss: 0.0945 - accuracy: 0.9662 - val_loss: 2.2256 - val_accuracy: 0.5592\n",
      "Epoch 41/50\n",
      "897/897 [==============================] - 15s 16ms/step - loss: 0.0979 - accuracy: 0.9660 - val_loss: 2.1491 - val_accuracy: 0.5469\n",
      "Epoch 42/50\n",
      "897/897 [==============================] - 15s 17ms/step - loss: 0.1007 - accuracy: 0.9652 - val_loss: 2.1643 - val_accuracy: 0.5548\n",
      "Epoch 43/50\n",
      "897/897 [==============================] - 15s 16ms/step - loss: 0.1168 - accuracy: 0.9608 - val_loss: 2.1190 - val_accuracy: 0.5598\n",
      "Epoch 44/50\n",
      "897/897 [==============================] - 15s 17ms/step - loss: 0.0822 - accuracy: 0.9723 - val_loss: 2.2042 - val_accuracy: 0.5567\n",
      "Epoch 45/50\n",
      "897/897 [==============================] - 15s 16ms/step - loss: 0.0848 - accuracy: 0.9705 - val_loss: 2.2841 - val_accuracy: 0.5559\n",
      "Epoch 46/50\n",
      "897/897 [==============================] - 15s 16ms/step - loss: 0.0872 - accuracy: 0.9696 - val_loss: 2.2154 - val_accuracy: 0.5665\n",
      "Epoch 47/50\n",
      "897/897 [==============================] - 15s 17ms/step - loss: 0.0774 - accuracy: 0.9737 - val_loss: 2.2932 - val_accuracy: 0.5564\n",
      "Epoch 48/50\n",
      "897/897 [==============================] - 15s 16ms/step - loss: 0.0851 - accuracy: 0.9707 - val_loss: 2.2902 - val_accuracy: 0.5525\n",
      "Epoch 49/50\n",
      "897/897 [==============================] - 15s 16ms/step - loss: 0.0955 - accuracy: 0.9666 - val_loss: 2.2472 - val_accuracy: 0.5467\n",
      "Epoch 50/50\n",
      "897/897 [==============================] - 15s 16ms/step - loss: 0.0865 - accuracy: 0.9699 - val_loss: 2.3268 - val_accuracy: 0.5475\n"
     ]
    }
   ],
   "source": [
    "history1 = model1.fit(X_train2, y_train, \n",
    "                    batch_size=32,\n",
    "                    validation_data=(X_test2, y_test),\n",
    "                    steps_per_epoch=X_train.shape[0] // 32, \n",
    "                    epochs=50)"
   ]
  },
  {
   "cell_type": "code",
   "execution_count": 236,
   "id": "5e5aec51",
   "metadata": {},
   "outputs": [
    {
     "name": "stdout",
     "output_type": "stream",
     "text": [
      "Потери на тесте train: 1.089257001876831\n",
      "Точность на тесте train: 0.7462816834449768\n",
      "\n",
      "\n",
      "Потери на тесте train: 2.305816650390625\n",
      "Точность на тесте train: 0.5731401443481445\n",
      "\n",
      "\n",
      "Потери на тесте val: 2.243788957595825\n",
      "Точность на тесте val: 0.57704097032547\n"
     ]
    }
   ],
   "source": [
    "train_score = model1.evaluate(X_train1, y_train, verbose=0)\n",
    "print('Потери на тесте train:', train_score[0])\n",
    "print('Точность на тесте train:', train_score[1])\n",
    "print('\\n')\n",
    "test_score = model1.evaluate(X_test1, y_test, verbose=0)\n",
    "print('Потери на тесте train:', test_score[0])\n",
    "print('Точность на тесте train:', test_score[1])\n",
    "print('\\n')\n",
    "val_score = model1.evaluate(X_val1, y_val, verbose=0)\n",
    "print('Потери на тесте val:', val_score[0])\n",
    "print('Точность на тесте val:', val_score[1])"
   ]
  },
  {
   "cell_type": "code",
   "execution_count": 237,
   "id": "4f0349dd",
   "metadata": {},
   "outputs": [
    {
     "data": {
      "image/png": "[encoded data removed]",
      "text/plain": [
       "<Figure size 432x288 with 1 Axes>"
      ]
     },
     "metadata": {
      "needs_background": "light"
     },
     "output_type": "display_data"
    },
    {
     "data": {
      "image/png": "[encoded data removed]",
      "text/plain": [
       "<Figure size 432x288 with 1 Axes>"
      ]
     },
     "metadata": {
      "needs_background": "light"
     },
     "output_type": "display_data"
    }
   ],
   "source": [
    "loss = history1.history['loss']\n",
    "loss_val = history1.history['val_loss']\n",
    "epochs = range(1, len(loss)+1)\n",
    "plt.plot(epochs, loss, 'bo', label='loss_train')\n",
    "plt.plot(epochs, loss_val, 'b', label='loss_val')\n",
    "plt.title('Value of the loss function')\n",
    "plt.xlabel('Epochs')\n",
    "plt.ylabel('Value of the loss function')\n",
    "plt.legend()\n",
    "plt.grid()\n",
    "plt.show()\n",
    "\n",
    "acc = history1.history['accuracy']\n",
    "acc_val = history1.history['val_accuracy']\n",
    "epochs = range(1, len(loss)+1)\n",
    "plt.plot(epochs, acc, 'bo', label='accuracy_train')\n",
    "plt.plot(epochs, acc_val, 'b', label='accuracy_val')\n",
    "plt.title('Accuracy')\n",
    "plt.xlabel('Epochs')\n",
    "plt.ylabel('Value of Accuracy')\n",
    "plt.legend()\n",
    "plt.grid()\n",
    "plt.show()"
   ]
  },
  {
   "cell_type": "code",
   "execution_count": 238,
   "id": "a39ca7a1",
   "metadata": {},
   "outputs": [
    {
     "name": "stdout",
     "output_type": "stream",
     "text": [
      "113/113 [==============================] - 1s 4ms/step\n"
     ]
    }
   ],
   "source": [
    "pred_test_labels = model1.predict(X_test1)"
   ]
  },
  {
   "cell_type": "code",
   "execution_count": 239,
   "id": "3c9dafd2",
   "metadata": {},
   "outputs": [
    {
     "name": "stderr",
     "output_type": "stream",
     "text": [
      "C:\\Users\\plato\\anaconda3\\envs\\gpu\\lib\\site-packages\\ipykernel_launcher.py:8: UserWarning: Matplotlib is currently using module://matplotlib_inline.backend_inline, which is a non-GUI backend, so cannot show the figure.\n",
      "  \n"
     ]
    },
    {
     "data": {
      "image/png": "[encoded data removed]",
      "text/plain": [
       "<Figure size 576x576 with 1 Axes>"
      ]
     },
     "metadata": {
      "needs_background": "light"
     },
     "output_type": "display_data"
    }
   ],
   "source": [
    "conf_mat = confusion_matrix(y_test.argmax(axis=1), pred_test_labels.argmax(axis=1))\n",
    "\n",
    "fig, ax = plot_confusion_matrix(conf_mat=conf_mat,\n",
    "                                show_normed=True,\n",
    "                                show_absolute=False,\n",
    "                                class_names=emotions.values(),\n",
    "                                figsize=(8, 8))\n",
    "fig.show()"
   ]
  }
 ],
 "metadata": {
  "kernelspec": {
   "display_name": "Python 3 (ipykernel)",
   "language": "python",
   "name": "python3"
  },
  "language_info": {
   "codemirror_mode": {
    "name": "ipython",
    "version": 3
   },
   "file_extension": ".py",
   "mimetype": "text/x-python",
   "name": "python",
   "nbconvert_exporter": "python",
   "pygments_lexer": "ipython3",
   "version": "3.7.0"
  }
 },
 "nbformat": 4,
 "nbformat_minor": 5
}
